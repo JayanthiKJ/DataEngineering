{
 "cells": [
  {
   "cell_type": "markdown",
   "id": "88047c92",
   "metadata": {},
   "source": [
    "## Section1_Data_Pipelines\n",
    "\n",
    "An e-commerce company requires that users sign up for a membership on the website in order to purchase a product from the platform. As a data engineer under this company, you are tasked with designing and implementing a pipeline to process the membership applications submitted by users on an hourly interval.\n",
    "\n",
    "Applications are batched into a varying number of datasets and dropped into a folder on an hourly basis. You are required to set up a pipeline to ingest, clean, perform validity checks, and create membership IDs for successful applications. An application is successful if:\n",
    "\n",
    "Application mobile number is 8 digits\n",
    "Applicant is over 18 years old as of 1 Jan 2022\n",
    "Applicant has a valid email (email ends with @emailprovider.com or @emailprovider.net)\n",
    "You are required to format datasets in the following manner:\n",
    "\n",
    "Split name into first_name and last_name\n",
    "Format birthday field into YYYYMMDD\n",
    "Remove any rows which do not have a name field (treat this as unsuccessful applications)\n",
    "Create a new field named above_18 based on the applicant's birthday\n",
    "Membership IDs for successful applications should be the user's last name, followed by a SHA256 hash of the applicant's birthday, truncated to first 5 digits of hash (i.e <last_name>_<hash(YYYYMMDD)>)\n",
    "You are required to consolidate these datasets and output the successful applications into a folder, which will be picked up by downstream engineers. Unsuccessful applications should be condolidated and dropped into a separate folder.\n",
    "\n",
    "You can use common scheduling solutions such as cron or airflow to implement the scheduling component. Please provide a markdown file as documentation.\n",
    "\n",
    "Note: Please submit the processed dataset and scripts used"
   ]
  },
  {
   "cell_type": "markdown",
   "id": "927f69c1",
   "metadata": {},
   "source": [
    "###  Data Loading"
   ]
  },
  {
   "cell_type": "code",
   "execution_count": 18,
   "id": "c34d2036",
   "metadata": {},
   "outputs": [
    {
     "name": "stdout",
     "output_type": "stream",
     "text": [
      "C:\\Users\\Jayanthi\\Desktop\\Jobs\\GovTech\\input\n",
      "C:\\Users\\Jayanthi\\Desktop\\Jobs\\GovTech\\archive\n"
     ]
    }
   ],
   "source": [
    "import os\n",
    "file_dir = os.getcwd()\n",
    "file_dir_input = os.path.join(file_dir, 'input')\n",
    "file_dir_archive =  os.path.join(file_dir, 'archive')\n",
    "print(file_dir_input)\n",
    "print(file_dir_archive)\n",
    "\n",
    "def get_files_in_dir(file_dir_input, extension = 'csv'):\n",
    "    files = os.listdir(file_dir_input)\n",
    "    if extension is not None: # we have a filter \n",
    "        files = [f for f in files if f.endswith(extension)]\n",
    "    return files\n"
   ]
  },
  {
   "cell_type": "code",
   "execution_count": 19,
   "id": "2a3ba20d",
   "metadata": {},
   "outputs": [
    {
     "name": "stdout",
     "output_type": "stream",
     "text": [
      "['membership_application_001.csv', 'membership_application_002.csv']\n"
     ]
    }
   ],
   "source": [
    "import csv\n",
    "  \n",
    "\n",
    "files = get_files_in_dir(file_dir_input)\n",
    "print(files)"
   ]
  },
  {
   "cell_type": "code",
   "execution_count": 5,
   "id": "c2ef307e",
   "metadata": {},
   "outputs": [
    {
     "name": "stdout",
     "output_type": "stream",
     "text": [
      "C:\\Users\\Jayanthi\\Desktop\\Jobs\\GovTech\\membership_application_001.csv\n",
      "<_csv.reader object at 0x000001CBA3A57FA0>\n",
      "C:\\Users\\Jayanthi\\Desktop\\Jobs\\GovTech\\membership_application_002.csv\n",
      "<_csv.reader object at 0x000001CBA3A664C0>\n",
      "('12345678', 'john abhraham                                                                                       ', '19980922', 'ja@gmail.com')\n",
      "('24345678', 'jack alexander                                                                                      ', '20011101', 'jal@gmail.com')\n",
      "('39345678', 'jenny ng                                                                                            ', '20040406', 'jng@gmail.com')\n",
      "('98345678', '                                                                                                    ', '20040406', 'jng@gmail.com')\n",
      "('42345678', 'john abhraham                                                                                       ', '19980921', 'ja@gmail.com')\n",
      "('52345678', 'jack alexander                                                                                      ', '20011111', 'jal@gmail.com')\n",
      "('62345678', 'jenny ng                                                                                            ', '20040426', 'jng@gmail.com')\n"
     ]
    }
   ],
   "source": [
    "\n",
    "import psycopg2\n",
    "  \n",
    "conn = psycopg2.connect(dbname=\"postgres\",\n",
    "                        user='postgres', password='15253545', \n",
    "                        host='localhost', port='5432'\n",
    ")\n",
    "  \n",
    "conn.autocommit = True\n",
    "cursor = conn.cursor()\n",
    "  \n",
    "sql = '''DROP TABLE IF EXISTS TB_MEM_APP_STG;'''\n",
    " \n",
    "cursor.execute(sql)\n",
    "#mobile number should be of 8 characters\n",
    "sql1 = '''CREATE TABLE TB_MEM_APP_STG(mobile_nbr char(8) NOT NULL,\\\n",
    "applicant_name char(100),\\\n",
    "date_of_birth char(8),\\\n",
    "employee_email varchar(30));'''\n",
    "  \n",
    "  \n",
    "cursor.execute(sql1)\n",
    "\n",
    "for i in files:\n",
    "     \n",
    "    \n",
    "        membership_application_filepath = os.path.join(file_dir, i)\n",
    "        print(membership_application_filepath)\n",
    "\n",
    "        try:\n",
    "                    membership_application_file = open(membership_application_filepath)\n",
    "                    membership_data = csv.reader(membership_application_file)\n",
    "                    print(membership_data)\n",
    "\n",
    "        except FileNotFoundError:\n",
    "                print('membership_application_file not found')    \n",
    "\n",
    "        sql2 = '''INSERT INTO TB_MEM_APP_STG(mobile_nbr, applicant_name,\\\n",
    "        date_of_birth,employee_email) VALUES (%s,%s,%s,%s  ) ''' \n",
    "        cursor.executemany(sql2, membership_data)\n",
    "        \n",
    "        \n",
    "        \n",
    "  \n",
    "sql3 = '''select * from TB_MEM_APP_STG;'''\n",
    "cursor.execute(sql3)\n",
    "for i in cursor.fetchall():\n",
    "    print(i)\n",
    "  \n",
    "conn.commit()\n",
    "conn.close()\n",
    "\n"
   ]
  },
  {
   "cell_type": "markdown",
   "id": "f73cda0a",
   "metadata": {},
   "source": [
    "###  Data preprocessing\n"
   ]
  },
  {
   "cell_type": "code",
   "execution_count": 6,
   "id": "40990a05",
   "metadata": {},
   "outputs": [
    {
     "name": "stdout",
     "output_type": "stream",
     "text": [
      "2022\n"
     ]
    }
   ],
   "source": [
    "from datetime import date  \n",
    "curr_year =  (date.today()).year\n",
    "\n",
    "print(curr_year )"
   ]
  },
  {
   "cell_type": "markdown",
   "id": "c6782dae",
   "metadata": {},
   "source": [
    "#### Split name into first_name and last_name \n",
    "#### Format birthday field into YYYYMMDD \n",
    "#### Remove any rows which do not have a name field (treat this as unsuccessful applications)\n",
    "#### Create a new field named above_18 based on the applicant's birthday \n",
    "#### Create a new field named Membership IDs for successful applications should be the user's last name, \n",
    "#### followed by a SHA256 hash of the applicant's birthday, truncated to first 5 digits of hash (i.e _<hash(YYYYMMDD)>)"
   ]
  },
  {
   "cell_type": "code",
   "execution_count": 7,
   "id": "0aadab1c",
   "metadata": {},
   "outputs": [
    {
     "name": "stdout",
     "output_type": "stream",
     "text": [
      "('', '12345678', 'john', 'abhraham', '19980922', 'abhraham19980922', '1998', 'ja@gmail.com')\n",
      "abhraham19980922\n",
      "1601b\n",
      "('', '24345678', 'jack', 'alexander', '20011101', 'alexander20011101', '2001', 'jal@gmail.com')\n",
      "alexander20011101\n",
      "3f8ed\n",
      "('', '39345678', 'jenny', 'ng', '20040406', 'ng20040406', '2004', 'jng@gmail.com')\n",
      "ng20040406\n",
      "c09f0\n",
      "('', '42345678', 'john', 'abhraham', '19980921', 'abhraham19980921', '1998', 'ja@gmail.com')\n",
      "abhraham19980921\n",
      "e6202\n",
      "('', '52345678', 'jack', 'alexander', '20011111', 'alexander20011111', '2001', 'jal@gmail.com')\n",
      "alexander20011111\n",
      "07d43\n",
      "('', '62345678', 'jenny', 'ng', '20040426', 'ng20040426', '2004', 'jng@gmail.com')\n",
      "ng20040426\n",
      "ed990\n"
     ]
    }
   ],
   "source": [
    "import hashlib\n",
    "\n",
    "#hash_value = hashlib.sha256()\n",
    " \n",
    "\n",
    "\n",
    "conn = psycopg2.connect(dbname=\"postgres\",\n",
    "                        user='postgres', password='15253545', \n",
    "                        host='localhost', port='5432'\n",
    ")\n",
    "  \n",
    "conn.autocommit = True\n",
    "cursor = conn.cursor()\n",
    "\n",
    "# unsuccessful applicants\n",
    "\n",
    "sql_d = '''DELETE FROM TB_MEM_APP_STG WHERE (applicant_name ='');'''\n",
    " \n",
    "cursor.execute(sql_d)\n",
    "\n",
    "\n",
    "sql = '''DROP TABLE IF EXISTS TB_MEM_APP_TGT;'''\n",
    " \n",
    "cursor.execute(sql)\n",
    "\n",
    "sql1 = '''CREATE TABLE TB_MEM_APP_TGT(membership_id varchar(100) PRIMARY KEY,\\\n",
    "mobile_nbr char(100) NOT NULL,\\\n",
    "first_name char(100),\\\n",
    "last_name char(100),\\\n",
    "date_of_birth char (10),\\\n",
    "above_18 char(1),\\\n",
    "employee_email varchar(30));'''\n",
    "  \n",
    "  \n",
    "cursor.execute(sql1)\n",
    "  \n",
    "#for i in cursor.fetchall():\n",
    " #   if ((len(str(i[0])) == 8) & (i[1] is not None)):\n",
    "        \n",
    "sql2 = '''SELECT '', mobile_nbr,  substring(applicant_name,1, position(' ' in applicant_name)-1 ),  substring(applicant_name,  position(' ' in applicant_name)+1 ),    date_of_birth ,  substring(applicant_name,position(' ' in applicant_name)+1 )||date_of_birth , substring(date_of_birth,1,4) ,employee_email from TB_MEM_APP_STG'''\n",
    "cursor.execute(sql2)\n",
    "\n",
    " \n",
    " \n",
    "for j in cursor.fetchall():\n",
    "     \n",
    "    print(j)\n",
    "    print(j[5]) \n",
    "    #hash_value =   (hashlib.sha256(bytes(j[1]) ).hexdigest())\n",
    "    hash_value =   (hashlib.sha256(bytes(j[5] ,encoding='utf8')).hexdigest())\n",
    "    hash_value = hash_value[:5]\n",
    "    print(hash_value)\n",
    "    age=curr_year-int(j[6]) \n",
    "    if age > 18:\n",
    "        above_18 = 'Y'\n",
    "    else:\n",
    "        above_18 = 'N'\n",
    "        \n",
    "    cursor.execute( '''INSERT INTO TB_MEM_APP_TGT VALUES(%s,%s,%s,%s,%s,%s,%s) ''' , (hash_value,j[1],j[2],j[3],j[4],above_18,j[7] ))\n",
    "     \n",
    "\n",
    "\n",
    "conn.commit()\n",
    "conn.close()\n"
   ]
  },
  {
   "cell_type": "markdown",
   "id": "bcf7f111",
   "metadata": {},
   "source": [
    "\n",
    "#### Applicant is over 18 years old as of 1 Jan 2022\n",
    "#### Printing final processed table output"
   ]
  },
  {
   "cell_type": "code",
   "execution_count": 8,
   "id": "31db5baf",
   "metadata": {},
   "outputs": [
    {
     "name": "stdout",
     "output_type": "stream",
     "text": [
      "\n",
      "\n",
      "SUCCESSFUL APPLICANTS\n",
      "---------------------\n",
      "('1601b', '12345678', 'john', 'abhraham', '19980922', 'Y', 'ja@gmail.com')\n",
      "('3f8ed', '24345678', 'jack', 'alexander', '20011101', 'Y', 'jal@gmail.com')\n",
      "('e6202', '42345678', 'john', 'abhraham', '19980921', 'Y', 'ja@gmail.com')\n",
      "('07d43', '52345678', 'jack', 'alexander', '20011111', 'Y', 'jal@gmail.com')\n"
     ]
    }
   ],
   "source": [
    "conn = psycopg2.connect(dbname=\"postgres\",\n",
    "                        user='postgres', password='15253545', \n",
    "                        host='localhost', port='5432'\n",
    ")\n",
    "  \n",
    "conn.autocommit = True\n",
    "cursor = conn.cursor()\n",
    "\n",
    "    \n",
    "### applicant must be older than 18 yrs\n",
    "sql_d = '''DELETE FROM TB_MEM_APP_TGT WHERE (above_18 ='N');'''\n",
    "cursor.execute(sql_d)\n",
    "\n",
    "sql_success = '''SELECT  membership_id,trim(mobile_nbr),trim(first_name),trim(last_name),trim(date_of_birth),above_18,employee_email from TB_MEM_APP_TGT'''\n",
    "cursor.execute(sql_success)\n",
    "\n",
    "print('\\n')\n",
    "print('SUCCESSFUL APPLICANTS')\n",
    "print('---------------------')\n",
    "for l in cursor.fetchall():\n",
    "    print(l)\n",
    "\n",
    "conn.commit()\n",
    "conn.close()\n"
   ]
  },
  {
   "cell_type": "markdown",
   "id": "53b57ebb",
   "metadata": {},
   "source": [
    "#### Moving processed files to archive"
   ]
  },
  {
   "cell_type": "code",
   "execution_count": 20,
   "id": "bc1ee49c",
   "metadata": {},
   "outputs": [
    {
     "name": "stdout",
     "output_type": "stream",
     "text": [
      "membership_application_001.csv\n",
      "membership_application_002.csv\n"
     ]
    }
   ],
   "source": [
    "import shutil \n",
    "\n",
    "import time\n",
    "\n",
    "for i in files:\n",
    "    time.sleep(10)\n",
    "    print(i)\n",
    "    \n",
    "    time.sleep(10)\n",
    "    shutil.move(file_dir_input+ r\"\\\\\" + i, file_dir_archive)\n",
    "    time.sleep(15)"
   ]
  }
 ],
 "metadata": {
  "kernelspec": {
   "display_name": "Python 3 (ipykernel)",
   "language": "python",
   "name": "python3"
  },
  "language_info": {
   "codemirror_mode": {
    "name": "ipython",
    "version": 3
   },
   "file_extension": ".py",
   "mimetype": "text/x-python",
   "name": "python",
   "nbconvert_exporter": "python",
   "pygments_lexer": "ipython3",
   "version": "3.8.8"
  },
  "toc": {
   "base_numbering": 1,
   "nav_menu": {},
   "number_sections": true,
   "sideBar": true,
   "skip_h1_title": false,
   "title_cell": "Table of Contents",
   "title_sidebar": "Contents",
   "toc_cell": false,
   "toc_position": {
    "height": "calc(100% - 180px)",
    "left": "10px",
    "top": "150px",
    "width": "307.2px"
   },
   "toc_section_display": true,
   "toc_window_display": true
  },
  "widgets": {
   "application/vnd.jupyter.widget-state+json": {
    "state": {},
    "version_major": 2,
    "version_minor": 0
   }
  }
 },
 "nbformat": 4,
 "nbformat_minor": 5
}
